{
 "cells": [
  {
   "cell_type": "markdown",
   "metadata": {},
   "source": [
    "### Details \n",
    "- Implement gradient descent without using pytorch "
   ]
  },
  {
   "cell_type": "code",
   "execution_count": 43,
   "metadata": {},
   "outputs": [],
   "source": [
    "import numpy as np \n",
    "\n",
    "x = np.array([1,2,3,4,5],dtype = np.float32)\n",
    "y = np.array([2,4,6,8,10],dtype = np.float32)\n",
    "\n",
    "# weights\n",
    "w = 0.0"
   ]
  },
  {
   "cell_type": "code",
   "execution_count": 44,
   "metadata": {},
   "outputs": [],
   "source": [
    "# let us write functions \n",
    "def forward(w,x):\n",
    "    return w*x\n",
    "def loss(y,y_pred):\n",
    "    # MSE loss \n",
    "    return ((y_pred-y)**2).sum()\n",
    "def gradient(x,y,y_pred):\n",
    "    return np.dot(2*x,(y_pred-y)).mean()"
   ]
  },
  {
   "cell_type": "code",
   "execution_count": 45,
   "metadata": {},
   "outputs": [
    {
     "name": "stdout",
     "output_type": "stream",
     "text": [
      "Prediction before training :0.000\n"
     ]
    }
   ],
   "source": [
    "print(f'Prediction before training :{forward(w,5):.3f}')"
   ]
  },
  {
   "cell_type": "code",
   "execution_count": 46,
   "metadata": {},
   "outputs": [
    {
     "data": {
      "text/plain": [
       "0.0"
      ]
     },
     "execution_count": 46,
     "metadata": {},
     "output_type": "execute_result"
    }
   ],
   "source": [
    "w"
   ]
  },
  {
   "cell_type": "markdown",
   "metadata": {},
   "source": [
    "#### Note :\n",
    "Too large a learning rate and miss the target , too slow longer convergence time "
   ]
  },
  {
   "cell_type": "code",
   "execution_count": 49,
   "metadata": {},
   "outputs": [
    {
     "name": "stdout",
     "output_type": "stream",
     "text": [
      "Epoch: 1 w : 2.000 loss : 0.0\n",
      "Epoch: 2 w : 2.000 loss : 0.0\n",
      "Epoch: 3 w : 2.000 loss : 0.0\n",
      "Epoch: 4 w : 2.000 loss : 0.0\n",
      "Epoch: 5 w : 2.000 loss : 0.0\n",
      "Epoch: 6 w : 2.000 loss : 0.0\n",
      "Epoch: 7 w : 2.000 loss : 0.0\n",
      "Epoch: 8 w : 2.000 loss : 0.0\n",
      "Epoch: 9 w : 2.000 loss : 0.0\n",
      "Epoch: 10 w : 2.000 loss : 0.0\n"
     ]
    }
   ],
   "source": [
    "learning_rate = 0.01\n",
    "iter_rate = 10 \n",
    "\n",
    "for epochs in range(iter_rate):\n",
    "    y_pred = forward(w,x)\n",
    "\n",
    "    # loss \n",
    "    l = loss(y,y_pred)\n",
    "\n",
    "    # gradient \n",
    "    dw = gradient(x,y,y_pred)\n",
    "\n",
    "    # wieght update \n",
    "    w -=learning_rate*dw\n",
    "\n",
    "    if epochs%1 == 0 :\n",
    "        print(f'Epoch: {epochs+1} w : {w:.3f} loss : {l}')"
   ]
  },
  {
   "cell_type": "code",
   "execution_count": 50,
   "metadata": {},
   "outputs": [
    {
     "name": "stdout",
     "output_type": "stream",
     "text": [
      "Prediction after training :10.000\n"
     ]
    }
   ],
   "source": [
    "print(f'Prediction after training :{forward(w,5):.3f}')"
   ]
  },
  {
   "cell_type": "code",
   "execution_count": null,
   "metadata": {},
   "outputs": [],
   "source": []
  }
 ],
 "metadata": {
  "kernelspec": {
   "display_name": "Python 3.9.15 ('base')",
   "language": "python",
   "name": "python3"
  },
  "language_info": {
   "codemirror_mode": {
    "name": "ipython",
    "version": 3
   },
   "file_extension": ".py",
   "mimetype": "text/x-python",
   "name": "python",
   "nbconvert_exporter": "python",
   "pygments_lexer": "ipython3",
   "version": "3.9.15"
  },
  "orig_nbformat": 4,
  "vscode": {
   "interpreter": {
    "hash": "6abc19a8e1fc5a4ded62ce588c026b0071d26d608f7dba32576a5a9967215991"
   }
  }
 },
 "nbformat": 4,
 "nbformat_minor": 2
}
