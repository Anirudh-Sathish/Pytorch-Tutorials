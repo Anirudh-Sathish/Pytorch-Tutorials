{
 "cells": [
  {
   "cell_type": "code",
   "execution_count": 1,
   "metadata": {},
   "outputs": [
    {
     "name": "stderr",
     "output_type": "stream",
     "text": [
      "/home/anirudh/miniconda3/lib/python3.9/site-packages/tqdm/auto.py:22: TqdmWarning: IProgress not found. Please update jupyter and ipywidgets. See https://ipywidgets.readthedocs.io/en/stable/user_install.html\n",
      "  from .autonotebook import tqdm as notebook_tqdm\n"
     ]
    }
   ],
   "source": [
    "import torch"
   ]
  },
  {
   "cell_type": "code",
   "execution_count": 7,
   "metadata": {},
   "outputs": [],
   "source": [
    "x = torch.tensor([1,2,3,4,5],dtype = torch.float32, requires_grad=True)\n",
    "y = torch.tensor([2,4,6,8,10],dtype = torch.float32 , requires_grad= True)\n",
    "\n",
    "w = torch.tensor(0.0, requires_grad= True)"
   ]
  },
  {
   "cell_type": "code",
   "execution_count": 8,
   "metadata": {},
   "outputs": [],
   "source": [
    "def forward(w , x):\n",
    "    return w*x\n",
    "def loss(y,y_pred):\n",
    "    # MSE loss \n",
    "    return ((y_pred-y)**2).sum()"
   ]
  },
  {
   "cell_type": "code",
   "execution_count": 9,
   "metadata": {},
   "outputs": [
    {
     "name": "stdout",
     "output_type": "stream",
     "text": [
      "Epoch: 1 w : 2.200 loss : 220.0\n",
      "Epoch: 2 w : 1.980 loss : 2.200000762939453\n",
      "Epoch: 3 w : 2.002 loss : 0.022000053897500038\n",
      "Epoch: 4 w : 2.000 loss : 0.0002200186427216977\n",
      "Epoch: 5 w : 2.000 loss : 2.200921016992652e-06\n",
      "Epoch: 6 w : 2.000 loss : 2.2059793991502374e-08\n",
      "Epoch: 7 w : 2.000 loss : 2.347206873309915e-10\n",
      "Epoch: 8 w : 2.000 loss : 3.0127011996228248e-12\n",
      "Epoch: 9 w : 2.000 loss : 0.0\n",
      "Epoch: 10 w : 2.000 loss : 0.0\n"
     ]
    }
   ],
   "source": [
    "learning_rate = 0.01 \n",
    "iter_rate = 10 \n",
    "\n",
    "for epochs in range(iter_rate):\n",
    "    y_pred = forward(w,x)\n",
    "\n",
    "    # loss\n",
    "    l = loss(y,y_pred)\n",
    "\n",
    "    l.backward()\n",
    "\n",
    "    with torch.no_grad():\n",
    "        w -= learning_rate*w.grad\n",
    "    \n",
    "    w.grad.zero_()\n",
    "\n",
    "    if epochs%1 == 0 :\n",
    "        print(f'Epoch: {epochs+1} w : {w:.3f} loss : {l}')\n",
    "    "
   ]
  },
  {
   "cell_type": "code",
   "execution_count": 10,
   "metadata": {},
   "outputs": [
    {
     "name": "stdout",
     "output_type": "stream",
     "text": [
      "Prediction after training :10.000\n"
     ]
    }
   ],
   "source": [
    "print(f'Prediction after training :{forward(w,5):.3f}')"
   ]
  },
  {
   "cell_type": "code",
   "execution_count": null,
   "metadata": {},
   "outputs": [],
   "source": []
  }
 ],
 "metadata": {
  "kernelspec": {
   "display_name": "Python 3.9.15 ('base')",
   "language": "python",
   "name": "python3"
  },
  "language_info": {
   "codemirror_mode": {
    "name": "ipython",
    "version": 3
   },
   "file_extension": ".py",
   "mimetype": "text/x-python",
   "name": "python",
   "nbconvert_exporter": "python",
   "pygments_lexer": "ipython3",
   "version": "3.9.15"
  },
  "orig_nbformat": 4,
  "vscode": {
   "interpreter": {
    "hash": "6abc19a8e1fc5a4ded62ce588c026b0071d26d608f7dba32576a5a9967215991"
   }
  }
 },
 "nbformat": 4,
 "nbformat_minor": 2
}
